```python
# Databricks notebook source
import pandas as pd
df = pd.read_csv('/dbfs/mnt/raw/patients.csv')
display(df.head())
```