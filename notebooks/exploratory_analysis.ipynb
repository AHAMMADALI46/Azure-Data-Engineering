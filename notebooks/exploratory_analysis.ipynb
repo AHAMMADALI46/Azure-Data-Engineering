```python
import pandas as pd
df = pd.read_csv('../data/raw/healthcare_raw.csv')
df.head()
df.describe()
```